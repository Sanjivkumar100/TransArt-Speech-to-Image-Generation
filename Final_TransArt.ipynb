{
  "nbformat": 4,
  "nbformat_minor": 0,
  "metadata": {
    "colab": {
      "provenance": [],
      "authorship_tag": "ABX9TyMtZqtg4DvY2fmUPwbkAmhw",
      "include_colab_link": true
    },
    "kernelspec": {
      "name": "python3",
      "display_name": "Python 3"
    },
    "language_info": {
      "name": "python"
    }
  },
  "cells": [
    {
      "cell_type": "markdown",
      "metadata": {
        "id": "view-in-github",
        "colab_type": "text"
      },
      "source": [
        "<a href=\"https://colab.research.google.com/github/Sanjivkumar100/TransArt-Speech-to-Image-Generation/blob/main/Final_TransArt.ipynb\" target=\"_parent\"><img src=\"https://colab.research.google.com/assets/colab-badge.svg\" alt=\"Open In Colab\"/></a>"
      ]
    },
    {
      "cell_type": "code",
      "execution_count": null,
      "metadata": {
        "id": "EjkwaViwBLjV"
      },
      "outputs": [],
      "source": [
        "import os\n",
        "import time\n",
        "import requests\n",
        "import gradio as gr\n",
        "from huggingface_hub import login\n",
        "from dotenv import load_dotenv\n",
        "\n",
        "load_dotenv()\n",
        "image_API=\"https://api-inference.huggingface.co/models/stabilityai/stable-diffusion-2\"\n",
        "translation_API=\"https://api-inference.huggingface.co/models/facebook/nllb-200-distilled-1.3B\"\n",
        "whisper_API=\"https://api-inference.huggingface.co/models/openai/whisper-large-v3\"\n",
        "\n",
        "HF_TOKEN=os.getenv(\"HF_TOKEN\")\n",
        "login(HF_TOKEN)\n",
        "headers={\"Authorization\":f\"Bearer {HF_TOKEN}\"}\n",
        "\n",
        "\n",
        "def query_whisper(audio_path):\n",
        "  with open(audio_path,\"rb\") as audio:\n",
        "    data=audio.read()\n",
        "    response=requests.post(whisper_API,headers=headers,data=data)\n",
        "    return response.json()\n",
        "\n",
        "def query_translation(text):\n",
        "  max_retries=5\n",
        "  delay=10\n",
        "  payload={\"inputs\":text,\"parameters\":{\"src_lang\":\"ta_Taml\",\"tgt_lang\":'eng_Latn'}}\n",
        "  for attempt in range(max_retries):\n",
        "    response=requests.post(translation_API,headers=headers,json=payload)\n",
        "    result= response.json()\n",
        "    if isinstance(result,list) and len(result)>0:\n",
        "      return {\"translated_text\":result[0][\"translation_text\"]}\n",
        "    elif isinstance(result,dict) and \"translation_text\" in result:\n",
        "      return {\"translated_text\":result[\"translation_text\"]}\n",
        "    time.sleep(delay)\n",
        "  return {\"error\":\"Translation API failed\",\"response\":result}\n",
        "\n",
        "def query_image(prompt):\n",
        "  max_retries=5\n",
        "  delay=10\n",
        "  payload={\"inputs\":prompt}\n",
        "  for attempt in range(max_retries):\n",
        "    response=requests.post(image_API,headers=headers,json=payload)\n",
        "    if response.status_code == 200 and response.headers.get('Content-Type', '').startswith('image/'):\n",
        "      image_path='generated_image.png'\n",
        "      with open(image_path,'wb') as f:\n",
        "        f.write(response.content)\n",
        "      return image_path\n",
        "    time.sleep(delay)\n",
        "  return None\n",
        "\n",
        "\n",
        "def process_audio(audio_path):\n",
        "  if not audio_path:\n",
        "    return None\n",
        "  try:\n",
        "    transcription=query_whisper(audio_path)\n",
        "    tamil_text=transcription.get(\"text\",\"Transcription error\")\n",
        "    translation=query_translation(tamil_text)\n",
        "    translated_text=translation.get(\"translated_text\",\"Translation error\")\n",
        "    image_path=query_image(translated_text)\n",
        "    return tamil_text,translated_text,image_path\n",
        "  except Exception as e:\n",
        "    return None,str(e),None\n",
        "\n",
        "iface=gr.Interface(\n",
        "    fn=process_audio,\n",
        "    inputs=gr.Audio(type=\"filepath\",label=\"Upload Audio\"),\n",
        "    outputs=[\n",
        "        gr.Textbox(label=\"Tamil Text\"),\n",
        "        gr.Textbox(label=\"English Translation\"),\n",
        "        gr.Image(label=\"Generated Image\")\n",
        "\n",
        "    ],\n",
        "    title=\"Speech-to-Image Generation\"\n",
        ")\n",
        "iface.launch(share=True,server_name=\"0.0.0.0\",server_port=None)"
      ]
    }
  ]
}